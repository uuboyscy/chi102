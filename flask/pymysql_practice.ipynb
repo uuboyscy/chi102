{
 "cells": [
  {
   "cell_type": "code",
   "execution_count": 2,
   "metadata": {},
   "outputs": [],
   "source": [
    "import pymysql"
   ]
  },
  {
   "cell_type": "code",
   "execution_count": 3,
   "metadata": {},
   "outputs": [],
   "source": [
    "# 設定資料庫連線資訊\n",
    "host = 'localhost'\n",
    "port = 3306\n",
    "user = 'root'\n",
    "passwd = 'root'\n",
    "db = 'testdb'\n",
    "charset = 'utf8mb4'"
   ]
  },
  {
   "cell_type": "code",
   "execution_count": 4,
   "metadata": {},
   "outputs": [
    {
     "name": "stdout",
     "output_type": "stream",
     "text": [
      "Successfully connected!\n"
     ]
    }
   ],
   "source": [
    "# 建立連線\n",
    "conn = pymysql.connect(host=host, port=port, user=user, passwd=passwd, db=db, charset=charset)\n",
    "print('Successfully connected!')"
   ]
  },
  {
   "cell_type": "code",
   "execution_count": 5,
   "metadata": {},
   "outputs": [],
   "source": [
    "cursor = conn.cursor()"
   ]
  },
  {
   "cell_type": "code",
   "execution_count": 6,
   "metadata": {},
   "outputs": [],
   "source": [
    "sql = \"\"\"\n",
    "INSERT INTO Staff (ID, Name, DeptId, Age, Gender, Salary, recordDt)\n",
    "VALUES ('001', 'Mike', '002', 45, 'M', 60000, '2020-04-24 14:59:57');\n",
    "\"\"\""
   ]
  },
  {
   "cell_type": "code",
   "execution_count": 7,
   "metadata": {},
   "outputs": [
    {
     "data": {
      "text/plain": [
       "1"
      ]
     },
     "execution_count": 7,
     "metadata": {},
     "output_type": "execute_result"
    }
   ],
   "source": [
    "cursor.execute(sql)"
   ]
  },
  {
   "cell_type": "code",
   "execution_count": 8,
   "metadata": {},
   "outputs": [],
   "source": [
    "conn.commit()"
   ]
  },
  {
   "cell_type": "code",
   "execution_count": 9,
   "metadata": {},
   "outputs": [],
   "source": [
    "create_table_sql = \"\"\"\n",
    "CREATE TABLE IF NOT EXISTS `testdb`.`staff_2` (\n",
    "  `ID` VARCHAR(10) NOT NULL COMMENT 'Employee ID',\n",
    "  `Name` VARCHAR(45) NOT NULL COMMENT 'Employee name',\n",
    "  `DeptId` VARCHAR(10) NOT NULL COMMENT 'Department ID',\n",
    "  `Age` INT NULL,\n",
    "  `Gender` VARCHAR(3) NULL,\n",
    "  `Salary` INT NULL,\n",
    "  `recordDt` DATETIME NOT NULL COMMENT 'The date and time that this information be recorded',\n",
    "  PRIMARY KEY (`ID`))\n",
    "DEFAULT CHARACTER SET = utf8mb4\n",
    "\"\"\""
   ]
  },
  {
   "cell_type": "code",
   "execution_count": null,
   "metadata": {},
   "outputs": [],
   "source": [
    "cursor.execute(create_table_sql)"
   ]
  }
 ],
 "metadata": {
  "kernelspec": {
   "display_name": "flask-_rd0Xpxm",
   "language": "python",
   "name": "python3"
  },
  "language_info": {
   "codemirror_mode": {
    "name": "ipython",
    "version": 3
   },
   "file_extension": ".py",
   "mimetype": "text/x-python",
   "name": "python",
   "nbconvert_exporter": "python",
   "pygments_lexer": "ipython3",
   "version": "3.11.5"
  }
 },
 "nbformat": 4,
 "nbformat_minor": 2
}
